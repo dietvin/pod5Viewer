{
 "cells": [
  {
   "cell_type": "code",
   "execution_count": 21,
   "metadata": {},
   "outputs": [],
   "source": [
    "import pod5\n",
    "import uuid\n",
    "import datetime\n",
    "import numpy as np"
   ]
  },
  {
   "cell_type": "code",
   "execution_count": 3,
   "metadata": {},
   "outputs": [],
   "source": [
    "pod5_path = \"/home/vincent/projects/inosine_detection/data/pod5_imb_niehrs_2023_22_dA/PAU44140_pass_8b98bb7f_f9191d76_1.pod5\""
   ]
  },
  {
   "cell_type": "code",
   "execution_count": 4,
   "metadata": {},
   "outputs": [],
   "source": [
    "d = pod5.DatasetReader(pod5_path)"
   ]
  },
  {
   "cell_type": "markdown",
   "metadata": {},
   "source": [
    "## Read record\n",
    "\n",
    "Contains the following information:\n",
    "- byte_count: int\n",
    "- calibration: [Calibration](https://pod5-file-format.readthedocs.io/en/latest/reference/api/pod5.pod5_types.html#pod5.pod5_types.Calibration)\n",
    "- calibration_digitisation: int\n",
    "- calibration_range: float\n",
    "- end_reason: [EndReason](https://pod5-file-format.readthedocs.io/en/latest/reference/api/pod5.pod5_types.html#pod5.pod5_types.EndReason)\n",
    "- end_reason_index: int\n",
    "- has_cached_signal: bool\n",
    "- median_before: float\n",
    "- num_minknow_events: int\n",
    "- num_reads_since_mux_change: int\n",
    "- num_samples: int\n",
    "- pore: [Pore](https://pod5-file-format.readthedocs.io/en/latest/reference/api/pod5.pod5_types.html#pod5.pod5_types.Pore)\n",
    "- predicted_scaling: [ShiftScalePair](https://pod5-file-format.readthedocs.io/en/latest/reference/api/pod5.pod5_types.html#pod5.pod5_types.ShiftScalePair)\n",
    "- read_id: UUID\n",
    "- read_number: int\n",
    "- **run_info**: [RunInfo](https://pod5-file-format.readthedocs.io/en/latest/reference/api/pod5.pod5_types.html#pod5.pod5_types.RunInfo)\n",
    "- run_info_index: int\n",
    "- sample_count: int\n",
    "- signal: ndarray[Any, dtype[int16]]\n",
    "- signal_pa: ndarray[Any, dtype[float32]]\n",
    "- signal_rows: List[[SignalRowInfo](https://pod5-file-format.readthedocs.io/en/latest/reference/api/pod5.reader.html#pod5.reader.SignalRowInfo)]\n",
    "- start_sample: int\n",
    "- time_since_mux_change: float\n",
    "- tracked_scaling: [ShiftScalePair](https://pod5-file-format.readthedocs.io/en/latest/reference/api/pod5.pod5_types.html#pod5.pod5_types.ShiftScalePair)"
   ]
  },
  {
   "cell_type": "code",
   "execution_count": 5,
   "metadata": {},
   "outputs": [],
   "source": [
    "x = d.get_read(\"2456dbc4-5a75-43c8-8daf-1dc850b740f8\")"
   ]
  },
  {
   "cell_type": "code",
   "execution_count": 28,
   "metadata": {},
   "outputs": [],
   "source": [
    "def members_to_dict(obj):\n",
    "    obj_dict = {}\n",
    "\n",
    "    members = [attr for attr in dir(obj) if not callable(getattr(obj, attr)) and not attr.startswith(\"_\")]\n",
    "    \n",
    "    for member in members: \n",
    "        member_value = getattr(obj, member)\n",
    "        if type(member_value) in [float, int, str, bool, dict, datetime.datetime, uuid.UUID, np.ndarray]:\n",
    "            obj_dict[member] = member_value\n",
    "        else:\n",
    "            obj_dict[member] = members_to_dict(member_value)\n",
    "\n",
    "    return obj_dict"
   ]
  },
  {
   "cell_type": "code",
   "execution_count": 29,
   "metadata": {},
   "outputs": [
    {
     "data": {
      "text/plain": [
       "{'byte_count': 2119,\n",
       " 'calibration': {'offset': -254.0, 'scale': 0.1870698481798172},\n",
       " 'calibration_digitisation': 2048,\n",
       " 'calibration_range': 383.1190490722656,\n",
       " 'end_reason': {'forced': False,\n",
       "  'name': 'signal_positive',\n",
       "  'reason': {'name': 'SIGNAL_POSITIVE', 'value': 4}},\n",
       " 'end_reason_index': 4,\n",
       " 'has_cached_signal': False,\n",
       " 'median_before': 201.82164001464844,\n",
       " 'num_minknow_events': 286,\n",
       " 'num_reads_since_mux_change': 5,\n",
       " 'num_samples': 2287,\n",
       " 'pore': {'channel': 938, 'pore_type': 'not_set', 'well': 2},\n",
       " 'predicted_scaling': {'scale': 20.406980514526367,\n",
       "  'shift': 98.16563415527344},\n",
       " 'read_id': UUID('2456dbc4-5a75-43c8-8daf-1dc850b740f8'),\n",
       " 'read_number': 148,\n",
       " 'run_info': {'acquisition_id': 'f9191d760a00fe0217d24d8dbe0af566bb0e8f87',\n",
       "  'acquisition_start_time': datetime.datetime(2024, 5, 22, 9, 31, 27, 718000, tzinfo=<UTC>),\n",
       "  'adc_max': 2047,\n",
       "  'adc_min': 0,\n",
       "  'context_tags': {'barcoding_enabled': '0',\n",
       "   'basecall_config_filename': 'dna_r10.4.1_e8.2_400bps_5khz_fast_prom.cfg',\n",
       "   'experiment_type': 'genomic_dna',\n",
       "   'local_basecalling': '1',\n",
       "   'package': 'bream4',\n",
       "   'package_version': '7.8.2',\n",
       "   'sample_frequency': '5000',\n",
       "   'selected_speed_bases_per_second': '400',\n",
       "   'sequencing_kit': 'sqk-lsk114'},\n",
       "  'experiment_name': 'imb_niehrs_2023_22_tasdelen',\n",
       "  'flow_cell_id': 'PAU44140',\n",
       "  'flow_cell_product_code': 'FLO-PRO114M',\n",
       "  'protocol_name': 'sequencing/sequencing_PRO114_DNA_e8_2_400K:FLO-PRO114M:SQK-LSK114:400',\n",
       "  'protocol_run_id': '8b98bb7f-ecbf-4eb3-b733-afa094fe1ee2',\n",
       "  'protocol_start_time': datetime.datetime(2024, 5, 22, 9, 29, 56, 147000, tzinfo=<UTC>),\n",
       "  'sample_id': 'imb_niehrs_2023_22_dA_new',\n",
       "  'sample_rate': 5000,\n",
       "  'sequencer_position': 'P2S-00674-A',\n",
       "  'sequencer_position_type': 'PromethION',\n",
       "  'sequencing_kit': 'sqk-lsk114',\n",
       "  'software': 'MinKNOW 23.11.7 (Bream 7.8.2, Core 5.8.6, Dorado 7.2.13+fba8e8925)',\n",
       "  'system_name': 'nacf-desktop',\n",
       "  'system_type': 'ubuntu 20.04',\n",
       "  'tracking_id': {'asic_id': '0004A30B01139491',\n",
       "   'asic_id_eeprom': '0004A30B01139491',\n",
       "   'asic_temp': '28.386713',\n",
       "   'asic_version': 'Unknown',\n",
       "   'configuration_version': '5.8.6',\n",
       "   'data_source': 'real_device',\n",
       "   'device_id': 'A',\n",
       "   'device_type': 'p2_solo',\n",
       "   'distribution_status': 'stable',\n",
       "   'distribution_version': '23.11.7',\n",
       "   'exp_script_name': 'sequencing/sequencing_PRO114_DNA_e8_2_400K:FLO-PRO114M:SQK-LSK114:400',\n",
       "   'exp_script_purpose': 'sequencing_run',\n",
       "   'exp_start_time': '2024-05-22T11:31:27.718691+02:00',\n",
       "   'flow_cell_id': 'PAU44140',\n",
       "   'flow_cell_product_code': 'FLO-PRO114M',\n",
       "   'fpga_board_id': '00186d206e51685c',\n",
       "   'fpga_firmware_version': '2.2.7',\n",
       "   'guppy_version': '7.2.13+fba8e8925',\n",
       "   'heatsink_temp': '33.994579',\n",
       "   'host_product_code': 'unknown',\n",
       "   'host_product_serial_number': '',\n",
       "   'hostname': 'nacf-desktop',\n",
       "   'installation_type': 'nc',\n",
       "   'is_simulated': '0',\n",
       "   'operating_system': 'ubuntu 20.04',\n",
       "   'protocol_group_id': 'imb_niehrs_2023_22_tasdelen',\n",
       "   'protocol_run_id': '8b98bb7f-ecbf-4eb3-b733-afa094fe1ee2',\n",
       "   'protocol_start_time': '2024-05-22T11:29:56.147530+02:00',\n",
       "   'protocols_version': '7.8.2',\n",
       "   'run_id': 'f9191d760a00fe0217d24d8dbe0af566bb0e8f87',\n",
       "   'sample_id': 'imb_niehrs_2023_22_dA_new',\n",
       "   'sequencer_hardware_revision': 'HW-30',\n",
       "   'sequencer_product_code': 'PRO-SEQ002',\n",
       "   'sequencer_serial_number': 'P2S-00674',\n",
       "   'usb_config': 'fx3_0.0.0#fpga_0.0.0#unknown#unknown',\n",
       "   'version': '5.8.6'}},\n",
       " 'run_info_index': 0,\n",
       " 'sample_count': 2287,\n",
       " 'signal': array([874, 868, 898, ..., 853, 898, 863], dtype=int16),\n",
       " 'signal_pa': array([115.98331 , 114.860886, 120.472984, ..., 112.05484 , 120.472984,\n",
       "        113.92554 ], dtype=float32),\n",
       " 'signal_rows': {},\n",
       " 'start_sample': 457642,\n",
       " 'time_since_mux_change': 12.099800109863281,\n",
       " 'tracked_scaling': {'scale': 0.0, 'shift': 0.0}}"
      ]
     },
     "execution_count": 29,
     "metadata": {},
     "output_type": "execute_result"
    }
   ],
   "source": [
    "members_to_dict(x)"
   ]
  },
  {
   "cell_type": "code",
   "execution_count": 12,
   "metadata": {},
   "outputs": [
    {
     "data": {
      "text/plain": [
       "['byte_count',\n",
       " 'calibration',\n",
       " 'calibration_digitisation',\n",
       " 'calibration_range',\n",
       " 'end_reason',\n",
       " 'end_reason_index',\n",
       " 'has_cached_signal',\n",
       " 'median_before',\n",
       " 'num_minknow_events',\n",
       " 'num_reads_since_mux_change',\n",
       " 'num_samples',\n",
       " 'pore',\n",
       " 'predicted_scaling',\n",
       " 'read_id',\n",
       " 'read_number',\n",
       " 'run_info',\n",
       " 'run_info_index',\n",
       " 'sample_count',\n",
       " 'signal',\n",
       " 'signal_pa',\n",
       " 'signal_rows',\n",
       " 'start_sample',\n",
       " 'time_since_mux_change',\n",
       " 'tracked_scaling']"
      ]
     },
     "execution_count": 12,
     "metadata": {},
     "output_type": "execute_result"
    }
   ],
   "source": [
    "[attr for attr in dir(x) if not callable(getattr(x, attr)) and not attr.startswith(\"_\")]"
   ]
  },
  {
   "cell_type": "code",
   "execution_count": null,
   "metadata": {},
   "outputs": [],
   "source": [
    "class ReadRecordProcessor:\n",
    "    def __init__(self, pod5_path) -> None:\n",
    "        self.dataset = pod5.DatasetReader(pod5_path)\n",
    "    \n",
    "    def _calibration_to_dict(self, obj: pod5.Calibration) -> dict[str, float]:\n",
    "        return {\"offset\": obj.offset, \"scale\": obj.scale}\n",
    "    \n",
    "    def _end_reason_to_dict(self, obj: pod5.EndReason):\n",
    "        return {\"forced\": obj.forced, \"name\": obj.name, \"reason_name\": obj.reason.name, \"reason_value\": obj.reason.value}\n",
    "\n",
    "    def _pore_to_dict(self, obj: pod5.Pore) -> dict[str, str|int]:\n",
    "        return {\"channel\": obj.channel, \"pore_type\": obj.pore_type, \"well\": obj.well}\n",
    "\n",
    "    def _predicted_scaling_to_dict(self, obj: pod5.pod5_types.ShiftScalePair) -> dict[str, float]:\n",
    "        return {\"scale\": obj.scale, \"shift\": obj.shift}\n",
    "    \n",
    "    def _run_info_to_dict(self, obj: pod5.RunInfo):\n",
    "        \n",
    "\n",
    "    def read_to_dict(self, read_id: str):\n",
    "        read_record = self.dataset.get_read(read_id)\n"
   ]
  },
  {
   "cell_type": "code",
   "execution_count": null,
   "metadata": {},
   "outputs": [],
   "source": [
    "def readrecord_to_dict(r: pod5.ReadRecord):\n",
    "    "
   ]
  },
  {
   "cell_type": "code",
   "execution_count": 8,
   "metadata": {},
   "outputs": [
    {
     "ename": "TypeError",
     "evalue": "'Read' object is not iterable",
     "output_type": "error",
     "traceback": [
      "\u001b[0;31m---------------------------------------------------------------------------\u001b[0m",
      "\u001b[0;31mTypeError\u001b[0m                                 Traceback (most recent call last)",
      "Cell \u001b[0;32mIn[8], line 1\u001b[0m\n\u001b[0;32m----> 1\u001b[0m \u001b[38;5;28;43;01mfor\u001b[39;49;00m\u001b[43m \u001b[49m\u001b[43mk\u001b[49m\u001b[43m,\u001b[49m\u001b[43m \u001b[49m\u001b[43mv\u001b[49m\u001b[43m \u001b[49m\u001b[38;5;129;43;01min\u001b[39;49;00m\u001b[43m \u001b[49m\u001b[43mx\u001b[49m\u001b[38;5;241;43m.\u001b[39;49m\u001b[43mto_read\u001b[49m\u001b[43m(\u001b[49m\u001b[43m)\u001b[49m\u001b[43m:\u001b[49m\n\u001b[1;32m      2\u001b[0m \u001b[43m    \u001b[49m\u001b[38;5;28;43mprint\u001b[39;49m\u001b[43m(\u001b[49m\u001b[43mk\u001b[49m\u001b[43m,\u001b[49m\u001b[43mv\u001b[49m\u001b[43m)\u001b[49m\n",
      "\u001b[0;31mTypeError\u001b[0m: 'Read' object is not iterable"
     ]
    }
   ],
   "source": [
    "for k, v in x.to_read().:\n",
    "    print(k,v)"
   ]
  },
  {
   "cell_type": "code",
   "execution_count": 6,
   "metadata": {},
   "outputs": [],
   "source": [
    "def calibration_to_dict(obj: pod5.Calibration) -> dict[str, float]:\n",
    "    return {\"offset\": obj.offset, \"scale\": obj.scale}\n",
    "\n",
    "def end_reason_to_dict(obj: pod5.EndReason):\n",
    "    return {\"forced\": obj.forced, \"name\": obj.name, \"reason_name\": obj.reason.name, \"reason_value\": obj.reason.value}\n",
    "\n",
    "def pore_to_dict(obj: pod5.Pore) -> dict[str, str|int]:\n",
    "    return {\"channel\": obj.channel, \"pore_type\": obj.pore_type, \"well\": obj.well}\n",
    "\n",
    "def predicted_scaling_to_dict(obj: pod5.pod5_types.ShiftScalePair) -> dict[str, float]:\n",
    "    return {\"scale\": obj.scale, \"shift\": obj.shift}\n"
   ]
  },
  {
   "cell_type": "code",
   "execution_count": 7,
   "metadata": {},
   "outputs": [],
   "source": [
    "attributes = [\"byte_count\",\n",
    "              \"calibration\",\n",
    "              \"calibration_digitisation\",\n",
    "              \"calibration_range\",\n",
    "              \"end_reason\",\n",
    "              \"end_reason_index\",\n",
    "              \"has_cached_signal\",\n",
    "              \"median_before\",\n",
    "              \"num_minknow_events\",\n",
    "              \"num_reads_since_mux_change\",\n",
    "              \"num_samples\",\n",
    "              \"pore\",\n",
    "              \"predicted_scaling\",\n",
    "              \"read_id\",\n",
    "              \"read_number\",\n",
    "              \"run_info\",\n",
    "              \"run_info_index\",\n",
    "              \"sample_count\",\n",
    "              \"signal\",\n",
    "              \"signal_pa\",\n",
    "              \"signal_rows\",\n",
    "              \"start_sample\",\n",
    "              \"time_since_mux_change\",\n",
    "              \"tracked_scaling\"]"
   ]
  },
  {
   "cell_type": "code",
   "execution_count": 8,
   "metadata": {},
   "outputs": [],
   "source": [
    "subattributes = {\"calibration\": [\"offset\", \n",
    "                                 \"scale\"], \n",
    "                 \"end_reason\": [\"forced\", \n",
    "                                \"name\", \n",
    "                                \"reason\"], \n",
    "                 \"pore\": [\"channel\", \n",
    "                          \"pore_type\", \n",
    "                          \"well\"], \n",
    "                 \"predicted_scaling\": [\"scale\", \n",
    "                                       \"shift\"], \n",
    "                 \"run_info\": [\"acquisition_id\", \n",
    "                              \"acquisition_start_time\", \n",
    "                              \"adc_max\", \n",
    "                              \"adc_min\", \n",
    "                              \"context_tags\", \n",
    "                              \"experiment_name\", \n",
    "                              \"flow_cell_id\", \n",
    "                              \"flow_cell_product_code\", \n",
    "                              \"protocol_name\", \n",
    "                              \"protocol_run_id\", \n",
    "                              \"protocol_start_time\", \n",
    "                              \"sample_id\", \n",
    "                              \"sample_rate\", \n",
    "                              \"sequencing_kit\", \n",
    "                              \"sequencer_position\", \n",
    "                              \"sequencer_position_type\", \n",
    "                              \"software\", \n",
    "                              \"system_name\", \n",
    "                              \"system_type\", \n",
    "                              \"tracking_id\"], \n",
    "                 \"signal_rows\": [\"batch_index\", \n",
    "                                 \"batch_row_index\", \n",
    "                                 \"byte_count\", \n",
    "                                 \"sample_count\"],\n",
    "                 \"tracked_scaling\": [\"scale\", \n",
    "                                     \"shift\"]}"
   ]
  },
  {
   "cell_type": "code",
   "execution_count": 10,
   "metadata": {},
   "outputs": [
    {
     "data": {
      "text/plain": [
       "<pod5.reader.ReadRecord at 0x778f5bf0d280>"
      ]
     },
     "execution_count": 10,
     "metadata": {},
     "output_type": "execute_result"
    }
   ],
   "source": [
    "x"
   ]
  },
  {
   "cell_type": "code",
   "execution_count": 71,
   "metadata": {},
   "outputs": [],
   "source": [
    "def get_attributes(obj, attributes: str):\n",
    "    d = {}\n",
    "    for attr in attributes:\n",
    "        d[attr] = getattr(obj, attr)\n",
    "    return d"
   ]
  },
  {
   "cell_type": "code",
   "execution_count": 78,
   "metadata": {},
   "outputs": [
    {
     "name": "stdout",
     "output_type": "stream",
     "text": [
      "byte_count: 2119\n",
      "calibration\n",
      "\toffset: -254.0\n",
      "\tscale: 0.1870698481798172\n",
      "calibration_digitisation: 2048\n",
      "calibration_range: 383.1190490722656\n",
      "end_reason\n",
      "\tforced: False\n",
      "\tname: signal_positive\n",
      "\treason: EndReasonEnum.SIGNAL_POSITIVE\n",
      "end_reason_index: 4\n",
      "has_cached_signal: False\n",
      "median_before: 201.82164001464844\n",
      "num_minknow_events: 286\n",
      "num_reads_since_mux_change: 5\n",
      "num_samples: 2287\n",
      "pore\n",
      "\tchannel: 938\n",
      "\tpore_type: not_set\n",
      "\twell: 2\n",
      "predicted_scaling\n",
      "\tscale: 20.406980514526367\n",
      "\tshift: 98.16563415527344\n",
      "read_id: 2456dbc4-5a75-43c8-8daf-1dc850b740f8\n",
      "read_number: 148\n",
      "run_info\n",
      "\tacquisition_id: f9191d760a00fe0217d24d8dbe0af566bb0e8f87\n",
      "\tacquisition_start_time: 2024-05-22 09:31:27.718000+00:00\n",
      "\tadc_max: 2047\n",
      "\tadc_min: 0\n",
      "\tcontext_tags: {'barcoding_enabled': '0', 'basecall_config_filename': 'dna_r10.4.1_e8.2_400bps_5khz_fast_prom.cfg', 'experiment_type': 'genomic_dna', 'local_basecalling': '1', 'package': 'bream4', 'package_version': '7.8.2', 'sample_frequency': '5000', 'selected_speed_bases_per_second': '400', 'sequencing_kit': 'sqk-lsk114'}\n",
      "\texperiment_name: imb_niehrs_2023_22_tasdelen\n",
      "\tflow_cell_id: PAU44140\n",
      "\tflow_cell_product_code: FLO-PRO114M\n",
      "\tprotocol_name: sequencing/sequencing_PRO114_DNA_e8_2_400K:FLO-PRO114M:SQK-LSK114:400\n",
      "\tprotocol_run_id: 8b98bb7f-ecbf-4eb3-b733-afa094fe1ee2\n",
      "\tprotocol_start_time: 2024-05-22 09:29:56.147000+00:00\n",
      "\tsample_id: imb_niehrs_2023_22_dA_new\n",
      "\tsample_rate: 5000\n",
      "\tsequencing_kit: sqk-lsk114\n",
      "\tsequencer_position: P2S-00674-A\n",
      "\tsequencer_position_type: PromethION\n",
      "\tsoftware: MinKNOW 23.11.7 (Bream 7.8.2, Core 5.8.6, Dorado 7.2.13+fba8e8925)\n",
      "\tsystem_name: nacf-desktop\n",
      "\tsystem_type: ubuntu 20.04\n",
      "\ttracking_id: {'asic_id': '0004A30B01139491', 'asic_id_eeprom': '0004A30B01139491', 'asic_temp': '28.386713', 'asic_version': 'Unknown', 'configuration_version': '5.8.6', 'data_source': 'real_device', 'device_id': 'A', 'device_type': 'p2_solo', 'distribution_status': 'stable', 'distribution_version': '23.11.7', 'exp_script_name': 'sequencing/sequencing_PRO114_DNA_e8_2_400K:FLO-PRO114M:SQK-LSK114:400', 'exp_script_purpose': 'sequencing_run', 'exp_start_time': '2024-05-22T11:31:27.718691+02:00', 'flow_cell_id': 'PAU44140', 'flow_cell_product_code': 'FLO-PRO114M', 'fpga_board_id': '00186d206e51685c', 'fpga_firmware_version': '2.2.7', 'guppy_version': '7.2.13+fba8e8925', 'heatsink_temp': '33.994579', 'host_product_code': 'unknown', 'host_product_serial_number': '', 'hostname': 'nacf-desktop', 'installation_type': 'nc', 'is_simulated': '0', 'operating_system': 'ubuntu 20.04', 'protocol_group_id': 'imb_niehrs_2023_22_tasdelen', 'protocol_run_id': '8b98bb7f-ecbf-4eb3-b733-afa094fe1ee2', 'protocol_start_time': '2024-05-22T11:29:56.147530+02:00', 'protocols_version': '7.8.2', 'run_id': 'f9191d760a00fe0217d24d8dbe0af566bb0e8f87', 'sample_id': 'imb_niehrs_2023_22_dA_new', 'sequencer_hardware_revision': 'HW-30', 'sequencer_product_code': 'PRO-SEQ002', 'sequencer_serial_number': 'P2S-00674', 'usb_config': 'fx3_0.0.0#fpga_0.0.0#unknown#unknown', 'version': '5.8.6'}\n",
      "run_info_index: 0\n",
      "sample_count: 2287\n",
      "signal: [874 868 898 ... 853 898 863]\n",
      "signal_pa: [115.98331  114.860886 120.472984 ... 112.05484  120.472984 113.92554 ]\n",
      "\t1\n",
      "\t\tbatch_index: 0\n",
      "\t\tbatch_row_index: 9\n",
      "\t\tbyte_count: 2119\n",
      "\t\tsample_count: 2287\n",
      "start_sample: 457642\n",
      "time_since_mux_change: 12.099800109863281\n",
      "tracked_scaling\n",
      "\tscale: 0.0\n",
      "\tshift: 0.0\n"
     ]
    }
   ],
   "source": [
    "for attribute in attributes:\n",
    "    if attribute in [\"calibration\", \"end_reason\", \"pore\", \"predicted_scaling\", \"run_info\", \"tracked_scaling\"]:\n",
    "        print(attribute)\n",
    "        attr_data = getattr(x, attribute)\n",
    "        for subattribute in subattributes[attribute]:\n",
    "            print(f\"\\t{subattribute}: {getattr(attr_data, subattribute)}\")\n",
    "    elif attribute == \"signal_rows\":\n",
    "        sigrowinfo_list = getattr(x, attribute)\n",
    "        for i, sigrowinfo in enumerate(sigrowinfo_list, start=1):\n",
    "            print(f\"\\t{i}\")\n",
    "            for subattribute in subattributes[attribute]:\n",
    "                print(f\"\\t\\t{subattribute}: {getattr(sigrowinfo, subattribute)}\")\n",
    "    else:\n",
    "        print(f\"{attribute}: {getattr(x, attribute)}\")\n"
   ]
  }
 ],
 "metadata": {
  "kernelspec": {
   "display_name": "Python 3",
   "language": "python",
   "name": "python3"
  },
  "language_info": {
   "codemirror_mode": {
    "name": "ipython",
    "version": 3
   },
   "file_extension": ".py",
   "mimetype": "text/x-python",
   "name": "python",
   "nbconvert_exporter": "python",
   "pygments_lexer": "ipython3",
   "version": "3.12.3"
  }
 },
 "nbformat": 4,
 "nbformat_minor": 2
}
