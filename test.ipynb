{
 "cells": [
  {
   "cell_type": "code",
   "execution_count": 1,
   "metadata": {},
   "outputs": [],
   "source": [
    "with open(\"search_icon.svg\", \"rb\") as f:\n",
    "    a = f.read()"
   ]
  },
  {
   "cell_type": "code",
   "execution_count": 2,
   "metadata": {},
   "outputs": [
    {
     "data": {
      "text/plain": [
       "b'<?xml version=\"1.0\" encoding=\"UTF-8\" standalone=\"no\"?>\\n<!-- Created with Inkscape (http://www.inkscape.org/) -->\\n\\n<svg\\n   width=\"14.715154mm\"\\n   height=\"14.715155mm\"\\n   viewBox=\"0 0 14.715154 14.715155\"\\n   version=\"1.1\"\\n   id=\"svg1\"\\n   xmlns=\"http://www.w3.org/2000/svg\"\\n   xmlns:svg=\"http://www.w3.org/2000/svg\">\\n  <defs\\n     id=\"defs1\" />\\n  <g\\n     id=\"layer1\"\\n     transform=\"translate(-70.972765,-43.513465)\">\\n    <g\\n       id=\"g4\"\\n       transform=\"rotate(-45,99.311832,60.128462)\">\\n      <g\\n         id=\"g5\"\\n         transform=\"translate(-7.7375184,-21.153222)\">\\n        <path\\n           id=\"path1\"\\n           style=\"fill:#000000;stroke-width:0.0778035\"\\n           d=\"m 98.758927,51.565376 a 5,5 0 0 0 -4.999695,5.000211 5,5 0 0 0 4.999695,5.000212 5,5 0 0 0 5.000203,-5.000212 5,5 0 0 0 -5.000203,-5.000211 z m 0,1.500166 a 3.5,3.5 0 0 1 3.500043,3.500045 3.5,3.5 0 0 1 -3.500043,3.500045 3.5,3.5 0 0 1 -3.500045,-3.500045 3.5,3.5 0 0 1 3.500045,-3.500045 z\" />\\n        <path\\n           style=\"fill:#000000;stroke-width:0.264583\"\\n           id=\"rect4\"\\n           width=\"2.9679999\"\\n           height=\"9.2129126\"\\n           x=\"86.934097\"\\n           y=\"60.925156\"\\n           d=\"m 87.934097,60.925156 h 0.968 c 0.554,0 1,0.446 1,1 v 7.212912 c 0,0.554 -0.446,1 -1,1 h -0.968 c -0.554,0 -1,-0.446 -1,-1 v -7.212912 c 0,-0.554 0.446,-1 1,-1 z\"\\n           rx=\"1\"\\n           transform=\"matrix(0.62963544,0,0,0.87941113,43.088013,8.1166523)\" />\\n      </g>\\n    </g>\\n  </g>\\n</svg>\\n'"
      ]
     },
     "execution_count": 2,
     "metadata": {},
     "output_type": "execute_result"
    }
   ],
   "source": [
    "a"
   ]
  },
  {
   "cell_type": "code",
   "execution_count": 4,
   "metadata": {},
   "outputs": [
    {
     "data": {
      "text/plain": [
       "b'<?xml version=\"1.0\" encoding=\"UTF-8\" standalone=\"no\"?>\\n\\n\\n<svg\\nwidth=\"14.715154mm\"\\nheight=\"14.715155mm\"\\nviewBox=\"0 0 14.715154 14.715155\"\\nversion=\"1.1\"\\nid=\"svg1\"\\nxmlns=\"http://www.w3.org/2000/svg\"\\nmlns:svg=\"http://www.w3.org/2000/svg\">\\n<defs\\nid=\"defs1\" />\\n<g\\n     id=\"layer1\"\\n     transform=\"translate(-70.972765,-43.513465)\">\\n    <g\\n       id=\"g4\"\\n       transform=\"rotate(-45,99.311832,60.128462)\">\\n      <g\\n         id=\"g5\"\\n         transform=\"translate(-7.7375184,-21.153222)\">\\n        <path\\n           id=\"path1\"\\n           style=\"fill:#000000;stroke-width:0.0778035\"\\n           d=\"m 98.758927,51.565376 a 5,5 0 0 0 -4.999695,5.000211 5,5 0 0 0 4.999695,5.000212 5,5 0 0 0 5.000203,-5.000212 5,5 0 0 0 -5.000203,-5.000211 z m 0,1.500166 a 3.5,3.5 0 0 1 3.500043,3.500045 3.5,3.5 0 0 1 -3.500043,3.500045 3.5,3.5 0 0 1 -3.500045,-3.500045 3.5,3.5 0 0 1 3.500045,-3.500045 z\" />\\n        <path\\n           style=\"fill:#000000;stroke-width:0.264583\"\\n           id=\"rect4\"\\n           width=\"2.9679999\"\\n           height=\"9.2129126\"\\n           x=\"86.934097\"\\n           y=\"60.925156\"\\n           d=\"m 87.934097,60.925156 h 0.968 c 0.554,0 1,0.446 1,1 v 7.212912 c 0,0.554 -0.446,1 -1,1 h -0.968 c -0.554,0 -1,-0.446 -1,-1 v -7.212912 c 0,-0.554 0.446,-1 1,-1 z\"\\n           rx=\"1\"\\n           transform=\"matrix(0.62963544,0,0,0.87941113,43.088013,8.1166523)\" />\\n      </g>\\n    </g>\\n  </g>\\n</svg>\\n'"
      ]
     },
     "execution_count": 4,
     "metadata": {},
     "output_type": "execute_result"
    }
   ],
   "source": [
    "b'<?xml version=\"1.0\" encoding=\"UTF-8\" standalone=\"no\"?>\\n\\n\\n<svg\\nwidth=\"14.715154mm\"\\nheight=\"14.715155mm\"\\nviewBox=\"0 0 14.715154 14.715155\"\\nversion=\"1.1\"\\nid=\"svg1\"\\nxmlns=\"http://www.w3.org/2000/svg\"\\nmlns:svg=\"http://www.w3.org/2000/svg\">\\n<defs\\nid=\"defs1\" />\\n<g\\n     id=\"layer1\"\\n     transform=\"translate(-70.972765,-43.513465)\">\\n    <g\\n       id=\"g4\"\\n       transform=\"rotate(-45,99.311832,60.128462)\">\\n      <g\\n         id=\"g5\"\\n         transform=\"translate(-7.7375184,-21.153222)\">\\n        <path\\n           id=\"path1\"\\n           style=\"fill:#000000;stroke-width:0.0778035\"\\n           d=\"m 98.758927,51.565376 a 5,5 0 0 0 -4.999695,5.000211 5,5 0 0 0 4.999695,5.000212 5,5 0 0 0 5.000203,-5.000212 5,5 0 0 0 -5.000203,-5.000211 z m 0,1.500166 a 3.5,3.5 0 0 1 3.500043,3.500045 3.5,3.5 0 0 1 -3.500043,3.500045 3.5,3.5 0 0 1 -3.500045,-3.500045 3.5,3.5 0 0 1 3.500045,-3.500045 z\" />\\n        <path\\n           style=\"fill:#000000;stroke-width:0.264583\"\\n           id=\"rect4\"\\n           width=\"2.9679999\"\\n           height=\"9.2129126\"\\n           x=\"86.934097\"\\n           y=\"60.925156\"\\n           d=\"m 87.934097,60.925156 h 0.968 c 0.554,0 1,0.446 1,1 v 7.212912 c 0,0.554 -0.446,1 -1,1 h -0.968 c -0.554,0 -1,-0.446 -1,-1 v -7.212912 c 0,-0.554 0.446,-1 1,-1 z\"\\n           rx=\"1\"\\n           transform=\"matrix(0.62963544,0,0,0.87941113,43.088013,8.1166523)\" />\\n      </g>\\n    </g>\\n  </g>\\n</svg>\\n'"
   ]
  }
 ],
 "metadata": {
  "kernelspec": {
   "display_name": "p5v",
   "language": "python",
   "name": "python3"
  },
  "language_info": {
   "codemirror_mode": {
    "name": "ipython",
    "version": 3
   },
   "file_extension": ".py",
   "mimetype": "text/x-python",
   "name": "python",
   "nbconvert_exporter": "python",
   "pygments_lexer": "ipython3",
   "version": "3.10.0"
  }
 },
 "nbformat": 4,
 "nbformat_minor": 2
}
